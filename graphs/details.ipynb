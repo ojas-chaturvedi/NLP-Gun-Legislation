{
 "cells": [
  {
   "cell_type": "code",
   "execution_count": 1,
   "metadata": {},
   "outputs": [],
   "source": [
    "from csv import DictReader\n",
    "from sys import path\n",
    "from math import sqrt\n",
    "\n",
    "path.append(\"/Users/ojaschaturvedi/Developer/NLP_project\")\n",
    "\n",
    "from sentiment_analysis.initialize import session_start, session_end"
   ]
  },
  {
   "cell_type": "code",
   "execution_count": 2,
   "metadata": {},
   "outputs": [],
   "source": [
    "overall = []\n",
    "control = []\n",
    "rights = []"
   ]
  },
  {
   "cell_type": "code",
   "execution_count": 3,
   "metadata": {},
   "outputs": [],
   "source": [
    "for session in range(session_start, session_end + 1):\n",
    "    csvFile = DictReader(open(f\"./../sentiment_analysis/data/{session}.csv\", \"r\"))\n",
    "\n",
    "    for legislation in csvFile:\n",
    "        sentiment = float(legislation[\"VADER Sentiment Score\"])\n",
    "\n",
    "        overall.append(sentiment)\n",
    "\n",
    "        if legislation[\"Classification\"] == \"control\":\n",
    "            control.append(sentiment)\n",
    "        else:\n",
    "            rights.append(sentiment)"
   ]
  },
  {
   "cell_type": "code",
   "execution_count": 4,
   "metadata": {},
   "outputs": [
    {
     "name": "stdout",
     "output_type": "stream",
     "text": [
      "Count of overall dataset: 2030\n",
      "Mean of overall dataset: 0.12008635467980318\n",
      "Variance of overall dataset: 0.8617140271917337\n",
      "Standard Deviation of overall dataset: 0.9282855310688267\n"
     ]
    }
   ],
   "source": [
    "mean = 0\n",
    "variance = 0\n",
    "\n",
    "for value in overall:\n",
    "    mean += value\n",
    "\n",
    "mean /= len(overall)\n",
    "\n",
    "for value in overall:\n",
    "    variance += (value - mean) ** 2\n",
    "\n",
    "variance /= len(overall) - 1\n",
    "standard_deviation = sqrt(variance)\n",
    "\n",
    "print(f\"Count of overall dataset: {len(overall)}\")\n",
    "print(f\"Mean of overall dataset: {mean}\")\n",
    "print(f\"Variance of overall dataset: {variance}\")\n",
    "print(f\"Standard Deviation of overall dataset: {standard_deviation}\")"
   ]
  },
  {
   "cell_type": "code",
   "execution_count": 5,
   "metadata": {},
   "outputs": [
    {
     "name": "stdout",
     "output_type": "stream",
     "text": [
      "Count of control dataset: 1406\n",
      "Mean of control dataset: 0.003363015647226151\n",
      "Variance of control dataset: 0.8761728282112569\n",
      "Standard Deviation of control dataset: 0.9360410398114267\n"
     ]
    }
   ],
   "source": [
    "mean = 0\n",
    "variance = 0\n",
    "\n",
    "for value in control:\n",
    "    mean += value\n",
    "\n",
    "mean /= len(control)\n",
    "\n",
    "for value in control:\n",
    "    variance += (value - mean) ** 2\n",
    "\n",
    "variance /= len(control) - 1\n",
    "standard_deviation = sqrt(variance)\n",
    "\n",
    "print(f\"Count of control dataset: {len(control)}\")\n",
    "print(f\"Mean of control dataset: {mean}\")\n",
    "print(f\"Variance of control dataset: {variance}\")\n",
    "print(f\"Standard Deviation of control dataset: {standard_deviation}\")"
   ]
  },
  {
   "cell_type": "code",
   "execution_count": 6,
   "metadata": {},
   "outputs": [
    {
     "name": "stdout",
     "output_type": "stream",
     "text": [
      "Count of rights dataset: 624\n",
      "Mean of rights dataset: 0.3830879807692309\n",
      "Variance of rights dataset: 0.7304608808344379\n",
      "Standard Deviation of rights dataset: 0.8546700420831643\n"
     ]
    }
   ],
   "source": [
    "mean = 0\n",
    "variance = 0\n",
    "\n",
    "for value in rights:\n",
    "    mean += value\n",
    "\n",
    "mean /= len(rights)\n",
    "\n",
    "for value in rights:\n",
    "    variance += (value - mean) ** 2\n",
    "\n",
    "variance /= len(rights) - 1\n",
    "standard_deviation = sqrt(variance)\n",
    "\n",
    "print(f\"Count of rights dataset: {len(rights)}\")\n",
    "print(f\"Mean of rights dataset: {mean}\")\n",
    "print(f\"Variance of rights dataset: {variance}\")\n",
    "print(f\"Standard Deviation of rights dataset: {standard_deviation}\")"
   ]
  }
 ],
 "metadata": {
  "kernelspec": {
   "display_name": "nlp-gun-legislation",
   "language": "python",
   "name": "python3"
  },
  "language_info": {
   "codemirror_mode": {
    "name": "ipython",
    "version": 3
   },
   "file_extension": ".py",
   "mimetype": "text/x-python",
   "name": "python",
   "nbconvert_exporter": "python",
   "pygments_lexer": "ipython3",
   "version": "3.12.2"
  }
 },
 "nbformat": 4,
 "nbformat_minor": 2
}
